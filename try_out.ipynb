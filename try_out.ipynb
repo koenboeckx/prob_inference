{
 "metadata": {
  "language_info": {
   "codemirror_mode": {
    "name": "ipython",
    "version": 3
   },
   "file_extension": ".py",
   "mimetype": "text/x-python",
   "name": "python",
   "nbconvert_exporter": "python",
   "pygments_lexer": "ipython3",
   "version": "3.6.6-final"
  },
  "orig_nbformat": 2,
  "kernelspec": {
   "name": "Python 3.6.6 64-bit ('base': conda)",
   "display_name": "Python 3.6.6 64-bit ('base': conda)",
   "metadata": {
    "interpreter": {
     "hash": "03d70f12275bdbd3006b475fba237f38379d7305e300e4809f3097500e65c159"
    }
   }
  }
 },
 "nbformat": 4,
 "nbformat_minor": 2,
 "cells": [
  {
   "cell_type": "code",
   "execution_count": 1,
   "metadata": {},
   "outputs": [],
   "source": [
    "import numpy as np\n",
    "from gridworld import GridWorld, make_beliefnet\n",
    "from belief_networks import make_factor_graph, order_beliefnet"
   ]
  },
  {
   "cell_type": "code",
   "execution_count": 2,
   "metadata": {},
   "outputs": [],
   "source": [
    "gw = GridWorld()\n",
    "beliefnet = make_beliefnet(gw, n_steps=3)\n",
    "# sort beliefnet chronologically\n",
    "beliefnet = sorted(beliefnet, key=lambda n: int(n.name[1:]))"
   ]
  },
  {
   "cell_type": "code",
   "execution_count": 3,
   "metadata": {},
   "outputs": [
    {
     "output_type": "stream",
     "name": "stdout",
     "text": [
      "Level 0 -> [s0, a0, a1, a2]\nLevel 1 -> [o0, s1]\nLevel 2 -> [o1, s2]\nLevel 3 -> [o2]\n"
     ]
    }
   ],
   "source": [
    "ordered_net = order_beliefnet(beliefnet)\n",
    "for key in ordered_net:\n",
    "    print(f'Level {key} -> {ordered_net[key]}')"
   ]
  },
  {
   "cell_type": "code",
   "execution_count": 4,
   "metadata": {},
   "outputs": [
    {
     "output_type": "execute_result",
     "data": {
      "text/plain": [
       "array([0.        , 0.07142857, 0.07142857, 0.07142857, 0.07142857,\n",
       "       0.07142857, 0.07142857, 0.07142857, 0.07142857, 0.07142857,\n",
       "       0.07142857, 0.07142857, 0.07142857, 0.07142857, 0.07142857,\n",
       "       0.        ])"
      ]
     },
     "metadata": {},
     "execution_count": 4
    }
   ],
   "source": [
    "beliefnet[0].table"
   ]
  },
  {
   "cell_type": "code",
   "execution_count": 11,
   "metadata": {},
   "outputs": [
    {
     "output_type": "execute_result",
     "data": {
      "text/plain": [
       "o2"
      ]
     },
     "metadata": {},
     "execution_count": 11
    }
   ],
   "source": [
    "factor_graph.vars[-1]"
   ]
  },
  {
   "cell_type": "code",
   "execution_count": 13,
   "metadata": {},
   "outputs": [
    {
     "output_type": "error",
     "ename": "AssertionError",
     "evalue": "Proposed root node s0 not in leafs: [fs0, o2, fa1, fa0, o1, fa2, o0]",
     "traceback": [
      "\u001b[0;31m---------------------------------------------------------------------------\u001b[0m",
      "\u001b[0;31mAssertionError\u001b[0m                            Traceback (most recent call last)",
      "\u001b[0;32m<ipython-input-13-79801dc90e10>\u001b[0m in \u001b[0;36m<module>\u001b[0;34m\u001b[0m\n\u001b[1;32m      1\u001b[0m \u001b[0mfactor_graph\u001b[0m \u001b[0;34m=\u001b[0m \u001b[0mmake_factor_graph\u001b[0m\u001b[0;34m(\u001b[0m\u001b[0mbeliefnet\u001b[0m\u001b[0;34m)\u001b[0m\u001b[0;34m\u001b[0m\u001b[0m\n\u001b[0;32m----> 2\u001b[0;31m \u001b[0mfactor_graph\u001b[0m\u001b[0;34m.\u001b[0m\u001b[0mcompute_messages\u001b[0m\u001b[0;34m(\u001b[0m\u001b[0mroot\u001b[0m\u001b[0;34m=\u001b[0m\u001b[0mfactor_graph\u001b[0m\u001b[0;34m.\u001b[0m\u001b[0mvars\u001b[0m\u001b[0;34m[\u001b[0m\u001b[0;36m0\u001b[0m\u001b[0;34m]\u001b[0m\u001b[0;34m)\u001b[0m\u001b[0;34m\u001b[0m\u001b[0m\n\u001b[0m",
      "\u001b[0;32m~/Programming/prob_inference/sum_product.py\u001b[0m in \u001b[0;36mcompute_messages\u001b[0;34m(self, root)\u001b[0m\n\u001b[1;32m    182\u001b[0m         \u001b[0;31m# 1. pick (arbitrary?) root node\u001b[0m\u001b[0;34m\u001b[0m\u001b[0;34m\u001b[0m\u001b[0m\n\u001b[1;32m    183\u001b[0m         \u001b[0;32mif\u001b[0m \u001b[0mroot\u001b[0m \u001b[0;32mis\u001b[0m \u001b[0;32mnot\u001b[0m \u001b[0;32mNone\u001b[0m\u001b[0;34m:\u001b[0m\u001b[0;34m\u001b[0m\u001b[0m\n\u001b[0;32m--> 184\u001b[0;31m             \u001b[0;32massert\u001b[0m \u001b[0mroot\u001b[0m \u001b[0;32min\u001b[0m \u001b[0mleafs\u001b[0m\u001b[0;34m,\u001b[0m \u001b[0;34mf'Proposed root node {root} not in leafs: {leafs}'\u001b[0m\u001b[0;34m\u001b[0m\u001b[0m\n\u001b[0m\u001b[1;32m    185\u001b[0m             \u001b[0mleafs\u001b[0m\u001b[0;34m.\u001b[0m\u001b[0mremove\u001b[0m\u001b[0;34m(\u001b[0m\u001b[0mroot\u001b[0m\u001b[0;34m)\u001b[0m\u001b[0;34m\u001b[0m\u001b[0m\n\u001b[1;32m    186\u001b[0m         \u001b[0;32melse\u001b[0m\u001b[0;34m:\u001b[0m\u001b[0;34m\u001b[0m\u001b[0m\n",
      "\u001b[0;31mAssertionError\u001b[0m: Proposed root node s0 not in leafs: [fs0, o2, fa1, fa0, o1, fa2, o0]"
     ]
    }
   ],
   "source": [
    "factor_graph = make_factor_graph(beliefnet)\n",
    "factor_graph.compute_messages(root=factor_graph.vars[-1])"
   ]
  },
  {
   "cell_type": "code",
   "execution_count": 9,
   "metadata": {},
   "outputs": [
    {
     "output_type": "stream",
     "name": "stdout",
     "text": [
      "s0: {fs0: Message from fs0 to s0: [0.         0.07142857 0.07142857 0.07142857 0.07142857 0.07142857\n 0.07142857 0.07142857 0.07142857 0.07142857 0.07142857 0.07142857\n 0.07142857 0.07142857 0.07142857 0.        ]}\na0: {fa0: Message from fa0 to a0: [0.25 0.25 0.25 0.25]}\na1: {fa1: Message from fa1 to a1: [0.25 0.25 0.25 0.25]}\na2: {fa2: Message from fa2 to a2: [0.25 0.25 0.25 0.25]}\no0: {}\ns1: {}\no1: {}\ns2: {fo2: Message from fo2 to s2: [1. 1. 1. 1. 1. 1. 1. 1. 1. 1. 1. 1. 1. 1. 1. 1.]}\no2: {}\nfs0: {}\nfa0: {}\nfa1: {}\nfa2: {}\nfo0: {o0: Message from o0 to fo0: [1. 1.]}\nfs1: {}\nfo1: {o1: Message from o1 to fo1: [1. 1.]}\nfs2: {s2: Message from s2 to fs2: [1. 1. 1. 1. 1. 1. 1. 1. 1. 1. 1. 1. 1. 1. 1. 1.]}\nfo2: {o2: Message from o2 to fo2: [1. 1.], a2: Message from a2 to fo2: [0.25 0.25 0.25 0.25]}\n"
     ]
    }
   ],
   "source": [
    "for node in factor_graph.vars + factor_graph.factors:\n",
    "    print(f'{node}: {node.messages}')"
   ]
  },
  {
   "cell_type": "code",
   "execution_count": 42,
   "metadata": {},
   "outputs": [
    {
     "output_type": "stream",
     "name": "stdout",
     "text": [
      "fs0 -> {s0}\nfa0 -> {a0}\nfa1 -> {a1}\nfa2 -> {a2}\nfs1 -> {s0, a0, s1}\nfo0 -> {s0, a0, o0}\nfs2 -> {a1, s2, s1}\nfo1 -> {a1, o1, s1}\nfo2 -> {s2, o2, a2}\n"
     ]
    }
   ],
   "source": [
    "for factor in factor_graph.factors:\n",
    "    print(factor, '->', factor.neighbors)"
   ]
  },
  {
   "cell_type": "code",
   "execution_count": 46,
   "metadata": {},
   "outputs": [
    {
     "output_type": "execute_result",
     "data": {
      "text/plain": [
       "[fs0, fa0, fa1, fa2, fs1, fo0, fs2, fo1, fo2]"
      ]
     },
     "metadata": {},
     "execution_count": 46
    }
   ],
   "source": [
    "factor_graph.factors"
   ]
  },
  {
   "cell_type": "code",
   "execution_count": 52,
   "metadata": {},
   "outputs": [
    {
     "output_type": "stream",
     "name": "stdout",
     "text": [
      "fs2 {a1, s2, s1}\n(16, 4, 16)\n{s1: 0, a1: 1, s2: 2}\n"
     ]
    }
   ],
   "source": [
    "f = factor_graph.factors[-3]\n",
    "print(f, f.neighbors)\n",
    "print(f.values.shape)\n",
    "print(f.axes_vars)"
   ]
  },
  {
   "cell_type": "code",
   "execution_count": 125,
   "metadata": {},
   "outputs": [
    {
     "output_type": "stream",
     "name": "stdout",
     "text": [
      "[s0, a0, a1, a2, s1, o0, s2, o1, o2]\ns0\n"
     ]
    },
    {
     "output_type": "execute_result",
     "data": {
      "text/plain": [
       "{fs0: Message from fs0 to s0: [[[1. 0. 0. ... 0. 0. 0.]\n",
       "   [0. 1. 0. ... 0. 0. 0.]\n",
       "   [0. 0. 0. ... 0. 0. 0.]\n",
       "   [1. 0. 0. ... 0. 0. 0.]]\n",
       " \n",
       "  [[0. 1. 0. ... 0. 0. 0.]\n",
       "   [0. 0. 1. ... 0. 0. 0.]\n",
       "   [0. 0. 0. ... 0. 0. 0.]\n",
       "   [1. 0. 0. ... 0. 0. 0.]]\n",
       " \n",
       "  [[0. 0. 1. ... 0. 0. 0.]\n",
       "   [0. 0. 0. ... 0. 0. 0.]\n",
       "   [0. 0. 0. ... 0. 0. 0.]\n",
       "   [0. 1. 0. ... 0. 0. 0.]]\n",
       " \n",
       "  ...\n",
       " \n",
       "  [[0. 0. 0. ... 0. 0. 0.]\n",
       "   [0. 0. 0. ... 0. 1. 0.]\n",
       "   [0. 0. 0. ... 1. 0. 0.]\n",
       "   [0. 0. 0. ... 0. 0. 0.]]\n",
       " \n",
       "  [[0. 0. 0. ... 0. 0. 0.]\n",
       "   [0. 0. 0. ... 0. 0. 1.]\n",
       "   [0. 0. 0. ... 0. 1. 0.]\n",
       "   [0. 0. 0. ... 1. 0. 0.]]\n",
       " \n",
       "  [[0. 0. 0. ... 0. 0. 0.]\n",
       "   [0. 0. 0. ... 0. 0. 1.]\n",
       "   [0. 0. 0. ... 0. 0. 1.]\n",
       "   [0. 0. 0. ... 0. 1. 0.]]]}"
      ]
     },
     "metadata": {},
     "execution_count": 125
    }
   ],
   "source": [
    "print(factor_graph.vars)\n",
    "N = 0\n",
    "print(factor_graph.vars[N])\n",
    "factor_graph.vars[N].messages"
   ]
  },
  {
   "cell_type": "code",
   "execution_count": 65,
   "metadata": {},
   "outputs": [],
   "source": [
    "import networkx as nx\n",
    "import matplotlib.pyplot as plt"
   ]
  },
  {
   "cell_type": "code",
   "execution_count": 123,
   "metadata": {},
   "outputs": [
    {
     "output_type": "display_data",
     "data": {
      "text/plain": "<Figure size 432x288 with 1 Axes>",
      "image/svg+xml": "<?xml version=\"1.0\" encoding=\"utf-8\" standalone=\"no\"?>\n<!DOCTYPE svg PUBLIC \"-//W3C//DTD SVG 1.1//EN\"\n  \"http://www.w3.org/Graphics/SVG/1.1/DTD/svg11.dtd\">\n<!-- Created with matplotlib (https://matplotlib.org/) -->\n<svg height=\"302.4pt\" version=\"1.1\" viewBox=\"0 0 446.4 302.4\" width=\"446.4pt\" xmlns=\"http://www.w3.org/2000/svg\" xmlns:xlink=\"http://www.w3.org/1999/xlink\">\n <defs>\n  <style type=\"text/css\">\n*{stroke-linecap:butt;stroke-linejoin:round;}\n  </style>\n </defs>\n <g id=\"figure_1\">\n  <g id=\"patch_1\">\n   <path d=\"M 0 302.4 \nL 446.4 302.4 \nL 446.4 0 \nL 0 0 \nz\n\" style=\"fill:#ffffff;\"/>\n  </g>\n  <g id=\"axes_1\">\n   <g id=\"LineCollection_1\">\n    <path clip-path=\"url(#p81396e47b1)\" d=\"M 218.713942 237.980309 \nL 279.96741 261.668249 \n\" style=\"fill:none;stroke:#000000;\"/>\n    <path clip-path=\"url(#p81396e47b1)\" d=\"M 218.713942 237.980309 \nL 196.752272 204.307221 \n\" style=\"fill:none;stroke:#000000;\"/>\n    <path clip-path=\"url(#p81396e47b1)\" d=\"M 218.713942 237.980309 \nL 137.252552 252.888476 \n\" style=\"fill:none;stroke:#000000;\"/>\n    <path clip-path=\"url(#p81396e47b1)\" d=\"M 114.532903 220.011743 \nL 26.836364 219.479637 \n\" style=\"fill:none;stroke:#000000;\"/>\n    <path clip-path=\"url(#p81396e47b1)\" d=\"M 114.532903 220.011743 \nL 196.752272 204.307221 \n\" style=\"fill:none;stroke:#000000;\"/>\n    <path clip-path=\"url(#p81396e47b1)\" d=\"M 114.532903 220.011743 \nL 137.252552 252.888476 \n\" style=\"fill:none;stroke:#000000;\"/>\n    <path clip-path=\"url(#p81396e47b1)\" d=\"M 331.156552 135.817561 \nL 335.743464 169.623681 \n\" style=\"fill:none;stroke:#000000;\"/>\n    <path clip-path=\"url(#p81396e47b1)\" d=\"M 331.156552 135.817561 \nL 237.553328 139.188699 \n\" style=\"fill:none;stroke:#000000;\"/>\n    <path clip-path=\"url(#p81396e47b1)\" d=\"M 331.156552 135.817561 \nL 405.303481 117.999964 \n\" style=\"fill:none;stroke:#000000;\"/>\n    <path clip-path=\"url(#p81396e47b1)\" d=\"M 161.973148 51.01781 \nL 141.814898 82.884229 \n\" style=\"fill:none;stroke:#000000;\"/>\n    <path clip-path=\"url(#p81396e47b1)\" d=\"M 161.973148 51.01781 \nL 160.571589 20.290909 \n\" style=\"fill:none;stroke:#000000;\"/>\n    <path clip-path=\"url(#p81396e47b1)\" d=\"M 241.801116 173.976932 \nL 237.553328 139.188699 \n\" style=\"fill:none;stroke:#000000;\"/>\n    <path clip-path=\"url(#p81396e47b1)\" d=\"M 241.801116 173.976932 \nL 196.752272 204.307221 \n\" style=\"fill:none;stroke:#000000;\"/>\n    <path clip-path=\"url(#p81396e47b1)\" d=\"M 241.801116 173.976932 \nL 335.743464 169.623681 \n\" style=\"fill:none;stroke:#000000;\"/>\n    <path clip-path=\"url(#p81396e47b1)\" d=\"M 101.862603 282.109091 \nL 137.252552 252.888476 \n\" style=\"fill:none;stroke:#000000;\"/>\n    <path clip-path=\"url(#p81396e47b1)\" d=\"M 186.408614 111.497658 \nL 237.553328 139.188699 \n\" style=\"fill:none;stroke:#000000;\"/>\n    <path clip-path=\"url(#p81396e47b1)\" d=\"M 186.408614 111.497658 \nL 141.814898 82.884229 \n\" style=\"fill:none;stroke:#000000;\"/>\n    <path clip-path=\"url(#p81396e47b1)\" d=\"M 419.563636 180.980712 \nL 335.743464 169.623681 \n\" style=\"fill:none;stroke:#000000;\"/>\n    <path clip-path=\"url(#p81396e47b1)\" d=\"M 53.782434 78.023314 \nL 141.814898 82.884229 \n\" style=\"fill:none;stroke:#000000;\"/>\n   </g>\n   <g id=\"PathCollection_1\">\n    <defs>\n     <path d=\"M 0 8.660254 \nC 2.296726 8.660254 4.499694 7.747755 6.123724 6.123724 \nC 7.747755 4.499694 8.660254 2.296726 8.660254 0 \nC 8.660254 -2.296726 7.747755 -4.499694 6.123724 -6.123724 \nC 4.499694 -7.747755 2.296726 -8.660254 0 -8.660254 \nC -2.296726 -8.660254 -4.499694 -7.747755 -6.123724 -6.123724 \nC -7.747755 -4.499694 -8.660254 -2.296726 -8.660254 0 \nC -8.660254 2.296726 -7.747755 4.499694 -6.123724 6.123724 \nC -4.499694 7.747755 -2.296726 8.660254 0 8.660254 \nz\n\" id=\"C0_0_acd2182311\"/>\n    </defs>\n    <g clip-path=\"url(#p81396e47b1)\">\n     <use style=\"fill:#008000;stroke:#008000;\" x=\"218.713942\" xlink:href=\"#C0_0_acd2182311\" y=\"237.980309\"/>\n    </g>\n    <g clip-path=\"url(#p81396e47b1)\">\n     <use style=\"fill:#008000;stroke:#008000;\" x=\"114.532903\" xlink:href=\"#C0_0_acd2182311\" y=\"220.011743\"/>\n    </g>\n    <g clip-path=\"url(#p81396e47b1)\">\n     <use style=\"fill:#008000;stroke:#008000;\" x=\"331.156552\" xlink:href=\"#C0_0_acd2182311\" y=\"135.817561\"/>\n    </g>\n    <g clip-path=\"url(#p81396e47b1)\">\n     <use style=\"fill:#008000;stroke:#008000;\" x=\"161.973148\" xlink:href=\"#C0_0_acd2182311\" y=\"51.01781\"/>\n    </g>\n    <g clip-path=\"url(#p81396e47b1)\">\n     <use style=\"fill:#008000;stroke:#008000;\" x=\"241.801116\" xlink:href=\"#C0_0_acd2182311\" y=\"173.976932\"/>\n    </g>\n    <g clip-path=\"url(#p81396e47b1)\">\n     <use style=\"fill:#008000;stroke:#008000;\" x=\"101.862603\" xlink:href=\"#C0_0_acd2182311\" y=\"282.109091\"/>\n    </g>\n    <g clip-path=\"url(#p81396e47b1)\">\n     <use style=\"fill:#008000;stroke:#008000;\" x=\"186.408614\" xlink:href=\"#C0_0_acd2182311\" y=\"111.497658\"/>\n    </g>\n    <g clip-path=\"url(#p81396e47b1)\">\n     <use style=\"fill:#008000;stroke:#008000;\" x=\"419.563636\" xlink:href=\"#C0_0_acd2182311\" y=\"180.980712\"/>\n    </g>\n    <g clip-path=\"url(#p81396e47b1)\">\n     <use style=\"fill:#008000;stroke:#008000;\" x=\"53.782434\" xlink:href=\"#C0_0_acd2182311\" y=\"78.023314\"/>\n    </g>\n    <g clip-path=\"url(#p81396e47b1)\">\n     <use style=\"fill:#ff0000;stroke:#ff0000;\" x=\"279.96741\" xlink:href=\"#C0_0_acd2182311\" y=\"261.668249\"/>\n    </g>\n    <g clip-path=\"url(#p81396e47b1)\">\n     <use style=\"fill:#ff0000;stroke:#ff0000;\" x=\"26.836364\" xlink:href=\"#C0_0_acd2182311\" y=\"219.479637\"/>\n    </g>\n    <g clip-path=\"url(#p81396e47b1)\">\n     <use style=\"fill:#ff0000;stroke:#ff0000;\" x=\"405.303481\" xlink:href=\"#C0_0_acd2182311\" y=\"117.999964\"/>\n    </g>\n    <g clip-path=\"url(#p81396e47b1)\">\n     <use style=\"fill:#ff0000;stroke:#ff0000;\" x=\"160.571589\" xlink:href=\"#C0_0_acd2182311\" y=\"20.290909\"/>\n    </g>\n    <g clip-path=\"url(#p81396e47b1)\">\n     <use style=\"fill:#ff0000;stroke:#ff0000;\" x=\"196.752272\" xlink:href=\"#C0_0_acd2182311\" y=\"204.307221\"/>\n    </g>\n    <g clip-path=\"url(#p81396e47b1)\">\n     <use style=\"fill:#ff0000;stroke:#ff0000;\" x=\"137.252552\" xlink:href=\"#C0_0_acd2182311\" y=\"252.888476\"/>\n    </g>\n    <g clip-path=\"url(#p81396e47b1)\">\n     <use style=\"fill:#ff0000;stroke:#ff0000;\" x=\"237.553328\" xlink:href=\"#C0_0_acd2182311\" y=\"139.188699\"/>\n    </g>\n    <g clip-path=\"url(#p81396e47b1)\">\n     <use style=\"fill:#ff0000;stroke:#ff0000;\" x=\"335.743464\" xlink:href=\"#C0_0_acd2182311\" y=\"169.623681\"/>\n    </g>\n    <g clip-path=\"url(#p81396e47b1)\">\n     <use style=\"fill:#ff0000;stroke:#ff0000;\" x=\"141.814898\" xlink:href=\"#C0_0_acd2182311\" y=\"82.884229\"/>\n    </g>\n   </g>\n   <g id=\"text_1\">\n    <g clip-path=\"url(#p81396e47b1)\">\n     <!-- s0 -->\n     <defs>\n      <path d=\"M 51.125 52.984375 \nL 51.125 39.703125 \nQ 45.515625 42.046875 40.28125 43.21875 \nQ 35.0625 44.390625 30.421875 44.390625 \nQ 25.4375 44.390625 23.015625 43.140625 \nQ 20.609375 41.890625 20.609375 39.3125 \nQ 20.609375 37.203125 22.4375 36.078125 \nQ 24.265625 34.96875 29 34.421875 \nL 32.078125 33.984375 \nQ 45.515625 32.28125 50.140625 28.375 \nQ 54.78125 24.46875 54.78125 16.109375 \nQ 54.78125 7.375 48.328125 2.96875 \nQ 41.890625 -1.421875 29.109375 -1.421875 \nQ 23.6875 -1.421875 17.890625 -0.5625 \nQ 12.109375 0.296875 6 2 \nL 6 15.28125 \nQ 11.234375 12.75 16.71875 11.46875 \nQ 22.21875 10.203125 27.875 10.203125 \nQ 33.015625 10.203125 35.59375 11.609375 \nQ 38.1875 13.03125 38.1875 15.828125 \nQ 38.1875 18.171875 36.40625 19.3125 \nQ 34.625 20.453125 29.296875 21.09375 \nL 26.21875 21.484375 \nQ 14.546875 22.953125 9.859375 26.90625 \nQ 5.171875 30.859375 5.171875 38.921875 \nQ 5.171875 47.609375 11.125 51.796875 \nQ 17.09375 56 29.390625 56 \nQ 34.234375 56 39.546875 55.265625 \nQ 44.875 54.546875 51.125 52.984375 \nz\n\" id=\"DejaVuSans-Bold-115\"/>\n      <path d=\"M 46 36.53125 \nQ 46 50.203125 43.4375 55.78125 \nQ 40.875 61.375 34.8125 61.375 \nQ 28.765625 61.375 26.171875 55.78125 \nQ 23.578125 50.203125 23.578125 36.53125 \nQ 23.578125 22.703125 26.171875 17.03125 \nQ 28.765625 11.375 34.8125 11.375 \nQ 40.828125 11.375 43.40625 17.03125 \nQ 46 22.703125 46 36.53125 \nz\nM 64.796875 36.375 \nQ 64.796875 18.265625 56.984375 8.421875 \nQ 49.171875 -1.421875 34.8125 -1.421875 \nQ 20.40625 -1.421875 12.59375 8.421875 \nQ 4.78125 18.265625 4.78125 36.375 \nQ 4.78125 54.546875 12.59375 64.375 \nQ 20.40625 74.21875 34.8125 74.21875 \nQ 49.171875 74.21875 56.984375 64.375 \nQ 64.796875 54.546875 64.796875 36.375 \nz\n\" id=\"DejaVuSans-Bold-48\"/>\n     </defs>\n     <g transform=\"translate(210.968317 241.291559)scale(0.12 -0.12)\">\n      <use xlink:href=\"#DejaVuSans-Bold-115\"/>\n      <use x=\"59.521484\" xlink:href=\"#DejaVuSans-Bold-48\"/>\n     </g>\n    </g>\n   </g>\n   <g id=\"text_2\">\n    <g clip-path=\"url(#p81396e47b1)\">\n     <!-- a0 -->\n     <defs>\n      <path d=\"M 32.90625 24.609375 \nQ 27.4375 24.609375 24.671875 22.75 \nQ 21.921875 20.90625 21.921875 17.28125 \nQ 21.921875 13.96875 24.140625 12.078125 \nQ 26.375 10.203125 30.328125 10.203125 \nQ 35.25 10.203125 38.625 13.734375 \nQ 42 17.28125 42 22.609375 \nL 42 24.609375 \nz\nM 59.625 31.203125 \nL 59.625 0 \nL 42 0 \nL 42 8.109375 \nQ 38.484375 3.125 34.078125 0.84375 \nQ 29.6875 -1.421875 23.390625 -1.421875 \nQ 14.890625 -1.421875 9.59375 3.53125 \nQ 4.296875 8.5 4.296875 16.40625 \nQ 4.296875 26.03125 10.90625 30.515625 \nQ 17.53125 35.015625 31.6875 35.015625 \nL 42 35.015625 \nL 42 36.375 \nQ 42 40.53125 38.71875 42.453125 \nQ 35.453125 44.390625 28.515625 44.390625 \nQ 22.90625 44.390625 18.0625 43.265625 \nQ 13.234375 42.140625 9.078125 39.890625 \nL 9.078125 53.21875 \nQ 14.703125 54.59375 20.359375 55.296875 \nQ 26.03125 56 31.6875 56 \nQ 46.484375 56 53.046875 50.171875 \nQ 59.625 44.34375 59.625 31.203125 \nz\n\" id=\"DejaVuSans-Bold-97\"/>\n     </defs>\n     <g transform=\"translate(106.309153 223.322993)scale(0.12 -0.12)\">\n      <use xlink:href=\"#DejaVuSans-Bold-97\"/>\n      <use x=\"67.480469\" xlink:href=\"#DejaVuSans-Bold-48\"/>\n     </g>\n    </g>\n   </g>\n   <g id=\"text_3\">\n    <g clip-path=\"url(#p81396e47b1)\">\n     <!-- a1 -->\n     <defs>\n      <path d=\"M 11.71875 12.984375 \nL 28.328125 12.984375 \nL 28.328125 60.109375 \nL 11.28125 56.59375 \nL 11.28125 69.390625 \nL 28.21875 72.90625 \nL 46.09375 72.90625 \nL 46.09375 12.984375 \nL 62.703125 12.984375 \nL 62.703125 0 \nL 11.71875 0 \nz\n\" id=\"DejaVuSans-Bold-49\"/>\n     </defs>\n     <g transform=\"translate(322.932802 139.128811)scale(0.12 -0.12)\">\n      <use xlink:href=\"#DejaVuSans-Bold-97\"/>\n      <use x=\"67.480469\" xlink:href=\"#DejaVuSans-Bold-49\"/>\n     </g>\n    </g>\n   </g>\n   <g id=\"text_4\">\n    <g clip-path=\"url(#p81396e47b1)\">\n     <!-- a2 -->\n     <defs>\n      <path d=\"M 28.8125 13.8125 \nL 60.890625 13.8125 \nL 60.890625 0 \nL 7.90625 0 \nL 7.90625 13.8125 \nL 34.515625 37.3125 \nQ 38.09375 40.53125 39.796875 43.609375 \nQ 41.5 46.6875 41.5 50 \nQ 41.5 55.125 38.0625 58.25 \nQ 34.625 61.375 28.90625 61.375 \nQ 24.515625 61.375 19.28125 59.5 \nQ 14.0625 57.625 8.109375 53.90625 \nL 8.109375 69.921875 \nQ 14.453125 72.015625 20.65625 73.109375 \nQ 26.859375 74.21875 32.8125 74.21875 \nQ 45.90625 74.21875 53.15625 68.453125 \nQ 60.40625 62.703125 60.40625 52.390625 \nQ 60.40625 46.4375 57.328125 41.28125 \nQ 54.25 36.140625 44.390625 27.484375 \nz\n\" id=\"DejaVuSans-Bold-50\"/>\n     </defs>\n     <g transform=\"translate(153.749398 54.32906)scale(0.12 -0.12)\">\n      <use xlink:href=\"#DejaVuSans-Bold-97\"/>\n      <use x=\"67.480469\" xlink:href=\"#DejaVuSans-Bold-50\"/>\n     </g>\n    </g>\n   </g>\n   <g id=\"text_5\">\n    <g clip-path=\"url(#p81396e47b1)\">\n     <!-- s1 -->\n     <g transform=\"translate(234.055491 177.288182)scale(0.12 -0.12)\">\n      <use xlink:href=\"#DejaVuSans-Bold-115\"/>\n      <use x=\"59.521484\" xlink:href=\"#DejaVuSans-Bold-49\"/>\n     </g>\n    </g>\n   </g>\n   <g id=\"text_6\">\n    <g clip-path=\"url(#p81396e47b1)\">\n     <!-- o0 -->\n     <defs>\n      <path d=\"M 34.421875 43.5 \nQ 28.609375 43.5 25.5625 39.328125 \nQ 22.515625 35.15625 22.515625 27.296875 \nQ 22.515625 19.4375 25.5625 15.25 \nQ 28.609375 11.078125 34.421875 11.078125 \nQ 40.140625 11.078125 43.15625 15.25 \nQ 46.1875 19.4375 46.1875 27.296875 \nQ 46.1875 35.15625 43.15625 39.328125 \nQ 40.140625 43.5 34.421875 43.5 \nz\nM 34.421875 56 \nQ 48.53125 56 56.46875 48.375 \nQ 64.40625 40.765625 64.40625 27.296875 \nQ 64.40625 13.8125 56.46875 6.1875 \nQ 48.53125 -1.421875 34.421875 -1.421875 \nQ 20.265625 -1.421875 12.28125 6.1875 \nQ 4.296875 13.8125 4.296875 27.296875 \nQ 4.296875 40.765625 12.28125 48.375 \nQ 20.265625 56 34.421875 56 \nz\n\" id=\"DejaVuSans-Bold-111\"/>\n     </defs>\n     <g transform=\"translate(93.565728 285.420341)scale(0.12 -0.12)\">\n      <use xlink:href=\"#DejaVuSans-Bold-111\"/>\n      <use x=\"68.701172\" xlink:href=\"#DejaVuSans-Bold-48\"/>\n     </g>\n    </g>\n   </g>\n   <g id=\"text_7\">\n    <g clip-path=\"url(#p81396e47b1)\">\n     <!-- s2 -->\n     <g transform=\"translate(178.662989 114.808908)scale(0.12 -0.12)\">\n      <use xlink:href=\"#DejaVuSans-Bold-115\"/>\n      <use x=\"59.521484\" xlink:href=\"#DejaVuSans-Bold-50\"/>\n     </g>\n    </g>\n   </g>\n   <g id=\"text_8\">\n    <g clip-path=\"url(#p81396e47b1)\">\n     <!-- o1 -->\n     <g transform=\"translate(411.266761 184.291962)scale(0.12 -0.12)\">\n      <use xlink:href=\"#DejaVuSans-Bold-111\"/>\n      <use x=\"68.701172\" xlink:href=\"#DejaVuSans-Bold-49\"/>\n     </g>\n    </g>\n   </g>\n   <g id=\"text_9\">\n    <g clip-path=\"url(#p81396e47b1)\">\n     <!-- o2 -->\n     <g transform=\"translate(45.485559 81.334564)scale(0.12 -0.12)\">\n      <use xlink:href=\"#DejaVuSans-Bold-111\"/>\n      <use x=\"68.701172\" xlink:href=\"#DejaVuSans-Bold-50\"/>\n     </g>\n    </g>\n   </g>\n   <g id=\"text_10\">\n    <g clip-path=\"url(#p81396e47b1)\">\n     <!-- fs0 -->\n     <defs>\n      <path d=\"M 44.390625 75.984375 \nL 44.390625 64.5 \nL 34.71875 64.5 \nQ 31 64.5 29.53125 63.15625 \nQ 28.078125 61.8125 28.078125 58.5 \nL 28.078125 54.6875 \nL 43.015625 54.6875 \nL 43.015625 42.1875 \nL 28.078125 42.1875 \nL 28.078125 0 \nL 10.59375 0 \nL 10.59375 42.1875 \nL 1.90625 42.1875 \nL 1.90625 54.6875 \nL 10.59375 54.6875 \nL 10.59375 58.5 \nQ 10.59375 67.4375 15.578125 71.703125 \nQ 20.5625 75.984375 31 75.984375 \nz\n\" id=\"DejaVuSans-Bold-102\"/>\n     </defs>\n     <g transform=\"translate(269.611785 264.979499)scale(0.12 -0.12)\">\n      <use xlink:href=\"#DejaVuSans-Bold-102\"/>\n      <use x=\"43.505859\" xlink:href=\"#DejaVuSans-Bold-115\"/>\n      <use x=\"103.027344\" xlink:href=\"#DejaVuSans-Bold-48\"/>\n     </g>\n    </g>\n   </g>\n   <g id=\"text_11\">\n    <g clip-path=\"url(#p81396e47b1)\">\n     <!-- fa0 -->\n     <g transform=\"translate(16.002614 222.790887)scale(0.12 -0.12)\">\n      <use xlink:href=\"#DejaVuSans-Bold-102\"/>\n      <use x=\"43.505859\" xlink:href=\"#DejaVuSans-Bold-97\"/>\n      <use x=\"110.986328\" xlink:href=\"#DejaVuSans-Bold-48\"/>\n     </g>\n    </g>\n   </g>\n   <g id=\"text_12\">\n    <g clip-path=\"url(#p81396e47b1)\">\n     <!-- fa1 -->\n     <g transform=\"translate(394.469731 121.311214)scale(0.12 -0.12)\">\n      <use xlink:href=\"#DejaVuSans-Bold-102\"/>\n      <use x=\"43.505859\" xlink:href=\"#DejaVuSans-Bold-97\"/>\n      <use x=\"110.986328\" xlink:href=\"#DejaVuSans-Bold-49\"/>\n     </g>\n    </g>\n   </g>\n   <g id=\"text_13\">\n    <g clip-path=\"url(#p81396e47b1)\">\n     <!-- fa2 -->\n     <g transform=\"translate(149.737839 23.602159)scale(0.12 -0.12)\">\n      <use xlink:href=\"#DejaVuSans-Bold-102\"/>\n      <use x=\"43.505859\" xlink:href=\"#DejaVuSans-Bold-97\"/>\n      <use x=\"110.986328\" xlink:href=\"#DejaVuSans-Bold-50\"/>\n     </g>\n    </g>\n   </g>\n   <g id=\"text_14\">\n    <g clip-path=\"url(#p81396e47b1)\">\n     <!-- fs1 -->\n     <g transform=\"translate(186.396647 207.618471)scale(0.12 -0.12)\">\n      <use xlink:href=\"#DejaVuSans-Bold-102\"/>\n      <use x=\"43.505859\" xlink:href=\"#DejaVuSans-Bold-115\"/>\n      <use x=\"103.027344\" xlink:href=\"#DejaVuSans-Bold-49\"/>\n     </g>\n    </g>\n   </g>\n   <g id=\"text_15\">\n    <g clip-path=\"url(#p81396e47b1)\">\n     <!-- fo0 -->\n     <g transform=\"translate(126.345677 256.199726)scale(0.12 -0.12)\">\n      <use xlink:href=\"#DejaVuSans-Bold-102\"/>\n      <use x=\"43.505859\" xlink:href=\"#DejaVuSans-Bold-111\"/>\n      <use x=\"112.207031\" xlink:href=\"#DejaVuSans-Bold-48\"/>\n     </g>\n    </g>\n   </g>\n   <g id=\"text_16\">\n    <g clip-path=\"url(#p81396e47b1)\">\n     <!-- fs2 -->\n     <g transform=\"translate(227.197703 142.499949)scale(0.12 -0.12)\">\n      <use xlink:href=\"#DejaVuSans-Bold-102\"/>\n      <use x=\"43.505859\" xlink:href=\"#DejaVuSans-Bold-115\"/>\n      <use x=\"103.027344\" xlink:href=\"#DejaVuSans-Bold-50\"/>\n     </g>\n    </g>\n   </g>\n   <g id=\"text_17\">\n    <g clip-path=\"url(#p81396e47b1)\">\n     <!-- fo1 -->\n     <g transform=\"translate(324.836589 172.934931)scale(0.12 -0.12)\">\n      <use xlink:href=\"#DejaVuSans-Bold-102\"/>\n      <use x=\"43.505859\" xlink:href=\"#DejaVuSans-Bold-111\"/>\n      <use x=\"112.207031\" xlink:href=\"#DejaVuSans-Bold-49\"/>\n     </g>\n    </g>\n   </g>\n   <g id=\"text_18\">\n    <g clip-path=\"url(#p81396e47b1)\">\n     <!-- fo2 -->\n     <g transform=\"translate(130.908023 86.195479)scale(0.12 -0.12)\">\n      <use xlink:href=\"#DejaVuSans-Bold-102\"/>\n      <use x=\"43.505859\" xlink:href=\"#DejaVuSans-Bold-111\"/>\n      <use x=\"112.207031\" xlink:href=\"#DejaVuSans-Bold-50\"/>\n     </g>\n    </g>\n   </g>\n  </g>\n </g>\n <defs>\n  <clipPath id=\"p81396e47b1\">\n   <rect height=\"288\" width=\"432\" x=\"7.2\" y=\"7.2\"/>\n  </clipPath>\n </defs>\n</svg>\n",
      "image/png": "[encoded data removed]"
     },
     "metadata": {}
    }
   ],
   "source": [
    "def draw_factorgraph(factor_graph):\n",
    "    \"\"\"draws the factorgraph and returns \n",
    "    a networkx digraph object representing\n",
    "    the graph\"\"\"\n",
    "    import networkx as nx\n",
    "    import matplotlib.pyplot as plt\n",
    "\n",
    "    node_color = []\n",
    "    G = nx.Graph()\n",
    "    # add nodes\n",
    "    for node in factor_graph.vars:\n",
    "        G.add_node(node.name)\n",
    "        node_color.append(\"green\")\n",
    "    for node in factor_graph.factors:\n",
    "        G.add_node(node.name)\n",
    "        node_color.append(\"red\")\n",
    "    \n",
    "    # add edges\n",
    "    for node in factor_graph.vars + factor_graph.factors:\n",
    "        for node2 in node.neighbors:\n",
    "            G.add_edge(node.name, node2.name)\n",
    "    \n",
    "    nx.draw(G, with_labels=True, font_weight='bold',\n",
    "            pos=nx.kamada_kawai_layout(G), node_color=node_color)\n",
    "\n",
    "draw_factorgraph(factor_graph)"
   ]
  },
  {
   "cell_type": "code",
   "execution_count": 120,
   "metadata": {},
   "outputs": [
    {
     "output_type": "display_data",
     "data": {
      "text/plain": "<Figure size 432x288 with 1 Axes>",
      "image/svg+xml": "<?xml version=\"1.0\" encoding=\"utf-8\" standalone=\"no\"?>\n<!DOCTYPE svg PUBLIC \"-//W3C//DTD SVG 1.1//EN\"\n  \"http://www.w3.org/Graphics/SVG/1.1/DTD/svg11.dtd\">\n<!-- Created with matplotlib (https://matplotlib.org/) -->\n<svg height=\"302.4pt\" version=\"1.1\" viewBox=\"0 0 446.4 302.4\" width=\"446.4pt\" xmlns=\"http://www.w3.org/2000/svg\" xmlns:xlink=\"http://www.w3.org/1999/xlink\">\n <defs>\n  <style type=\"text/css\">\n*{stroke-linecap:butt;stroke-linejoin:round;}\n  </style>\n </defs>\n <g id=\"figure_1\">\n  <g id=\"patch_1\">\n   <path d=\"M 0 302.4 \nL 446.4 302.4 \nL 446.4 0 \nL 0 0 \nz\n\" style=\"fill:#ffffff;\"/>\n  </g>\n  <g id=\"axes_1\">\n   <g id=\"patch_2\">\n    <path clip-path=\"url(#p4a68be041a)\" d=\"M 53.346827 270.208264 \nQ 223.198697 270.208264 391.932533 270.208264 \n\" style=\"fill:none;stroke:#000000;stroke-linecap:round;\"/>\n    <path clip-path=\"url(#p4a68be041a)\" d=\"M 387.932533 268.208264 \nL 391.932533 270.208264 \nL 387.932533 272.208264 \nL 387.932533 268.208264 \nz\n\" style=\"stroke:#000000;stroke-linecap:round;\"/>\n   </g>\n   <g id=\"patch_3\">\n    <path clip-path=\"url(#p4a68be041a)\" d=\"M 53.144093 268.329045 \nQ 197.701559 236.205163 341.167615 204.323817 \n\" style=\"fill:none;stroke:#000000;stroke-linecap:round;\"/>\n    <path clip-path=\"url(#p4a68be041a)\" d=\"M 336.829006 203.239165 \nL 341.167615 204.323817 \nL 337.696728 207.143913 \nL 336.829006 203.239165 \nz\n\" style=\"stroke:#000000;stroke-linecap:round;\"/>\n   </g>\n   <g id=\"patch_4\">\n    <path clip-path=\"url(#p4a68be041a)\" d=\"M 381.407795 243.135462 \nQ 388.961295 253.206795 395.843975 262.383702 \n\" style=\"fill:none;stroke:#000000;stroke-linecap:round;\"/>\n    <path clip-path=\"url(#p4a68be041a)\" d=\"M 395.043975 257.983702 \nL 395.843975 262.383702 \nL 391.843975 260.383702 \nL 395.043975 257.983702 \nz\n\" style=\"stroke:#000000;stroke-linecap:round;\"/>\n   </g>\n   <g id=\"patch_5\">\n    <path clip-path=\"url(#p4a68be041a)\" d=\"M 371.013457 229.276345 \nQ 363.459957 219.205011 356.577277 210.028104 \n\" style=\"fill:none;stroke:#000000;stroke-linecap:round;\"/>\n    <path clip-path=\"url(#p4a68be041a)\" d=\"M 357.377277 214.428104 \nL 356.577277 210.028104 \nL 360.577277 212.028104 \nL 357.377277 214.428104 \nz\n\" style=\"stroke:#000000;stroke-linecap:round;\"/>\n   </g>\n   <g id=\"patch_6\">\n    <path clip-path=\"url(#p4a68be041a)\" d=\"M 342.13913 200.933953 \nQ 235.949351 185.202134 130.865535 169.634161 \n\" style=\"fill:none;stroke:#000000;stroke-linecap:round;\"/>\n    <path clip-path=\"url(#p4a68be041a)\" d=\"M 134.529251 172.198763 \nL 130.865535 169.634161 \nL 135.115446 168.241949 \nL 134.529251 172.198763 \nz\n\" style=\"stroke:#000000;stroke-linecap:round;\"/>\n   </g>\n   <g id=\"patch_7\">\n    <path clip-path=\"url(#p4a68be041a)\" d=\"M 345.512075 195.274502 \nQ 286.954908 117.198279 229.068561 40.016484 \n\" style=\"fill:none;stroke:#000000;stroke-linecap:round;\"/>\n    <path clip-path=\"url(#p4a68be041a)\" d=\"M 229.868561 44.416484 \nL 229.068561 40.016484 \nL 233.068561 42.016484 \nL 229.868561 44.416484 \nz\n\" style=\"stroke:#000000;stroke-linecap:round;\"/>\n   </g>\n   <g id=\"patch_8\">\n    <path clip-path=\"url(#p4a68be041a)\" d=\"M 141.497518 141.128378 \nQ 133.944018 151.199712 127.061338 160.376618 \n\" style=\"fill:none;stroke:#000000;stroke-linecap:round;\"/>\n    <path clip-path=\"url(#p4a68be041a)\" d=\"M 131.061338 158.376618 \nL 127.061338 160.376618 \nL 127.861338 155.976618 \nL 131.061338 158.376618 \nz\n\" style=\"stroke:#000000;stroke-linecap:round;\"/>\n   </g>\n   <g id=\"patch_9\">\n    <path clip-path=\"url(#p4a68be041a)\" d=\"M 151.889521 127.272374 \nQ 184.947438 83.195151 217.334535 40.012355 \n\" style=\"fill:none;stroke:#000000;stroke-linecap:round;\"/>\n    <path clip-path=\"url(#p4a68be041a)\" d=\"M 213.334535 42.012355 \nL 217.334535 40.012355 \nL 216.534535 44.412355 \nL 213.334535 42.012355 \nz\n\" style=\"stroke:#000000;stroke-linecap:round;\"/>\n   </g>\n   <g id=\"patch_10\">\n    <path clip-path=\"url(#p4a68be041a)\" d=\"M 223.2 40.854202 \nQ 223.2 49.195148 223.2 56.418059 \n\" style=\"fill:none;stroke:#000000;stroke-linecap:round;\"/>\n    <path clip-path=\"url(#p4a68be041a)\" d=\"M 225.2 52.418059 \nL 223.2 56.418059 \nL 221.2 52.418059 \nL 225.2 52.418059 \nz\n\" style=\"stroke:#000000;stroke-linecap:round;\"/>\n   </g>\n   <g id=\"patch_11\">\n    <path clip-path=\"url(#p4a68be041a)\" d=\"M 243.504602 93.2669 \nQ 235.951102 83.195566 229.068422 74.018659 \n\" style=\"fill:none;stroke:#000000;stroke-linecap:round;\"/>\n    <path clip-path=\"url(#p4a68be041a)\" d=\"M 229.868422 78.418659 \nL 229.068422 74.018659 \nL 233.068422 76.018659 \nL 229.868422 78.418659 \nz\n\" style=\"stroke:#000000;stroke-linecap:round;\"/>\n   </g>\n   <g id=\"PathCollection_1\">\n    <defs>\n     <path d=\"M 0 8.660254 \nC 2.296726 8.660254 4.499694 7.747755 6.123724 6.123724 \nC 7.747755 4.499694 8.660254 2.296726 8.660254 0 \nC 8.660254 -2.296726 7.747755 -4.499694 6.123724 -6.123724 \nC 4.499694 -7.747755 2.296726 -8.660254 0 -8.660254 \nC -2.296726 -8.660254 -4.499694 -7.747755 -6.123724 -6.123724 \nC -7.747755 -4.499694 -8.660254 -2.296726 -8.660254 0 \nC -8.660254 2.296726 -7.747755 4.499694 -6.123724 6.123724 \nC -4.499694 7.747755 -2.296726 8.660254 0 8.660254 \nz\n\" id=\"m6dd3daeccc\" style=\"stroke:#1f78b4;\"/>\n    </defs>\n    <g clip-path=\"url(#p4a68be041a)\">\n     <use style=\"fill:#1f78b4;stroke:#1f78b4;\" x=\"44.687603\" xlink:href=\"#m6dd3daeccc\" y=\"270.208264\"/>\n     <use style=\"fill:#1f78b4;stroke:#1f78b4;\" x=\"376.210626\" xlink:href=\"#m6dd3daeccc\" y=\"236.205903\"/>\n     <use style=\"fill:#1f78b4;stroke:#1f78b4;\" x=\"401.712397\" xlink:href=\"#m6dd3daeccc\" y=\"270.208264\"/>\n     <use style=\"fill:#1f78b4;stroke:#1f78b4;\" x=\"350.708855\" xlink:href=\"#m6dd3daeccc\" y=\"202.203542\"/>\n     <use style=\"fill:#1f78b4;stroke:#1f78b4;\" x=\"146.694687\" xlink:href=\"#m6dd3daeccc\" y=\"134.198819\"/>\n     <use style=\"fill:#1f78b4;stroke:#1f78b4;\" x=\"121.192916\" xlink:href=\"#m6dd3daeccc\" y=\"168.201181\"/>\n     <use style=\"fill:#1f78b4;stroke:#1f78b4;\" x=\"223.2\" xlink:href=\"#m6dd3daeccc\" y=\"32.191736\"/>\n     <use style=\"fill:#1f78b4;stroke:#1f78b4;\" x=\"248.701771\" xlink:href=\"#m6dd3daeccc\" y=\"100.196458\"/>\n     <use style=\"fill:#1f78b4;stroke:#1f78b4;\" x=\"223.2\" xlink:href=\"#m6dd3daeccc\" y=\"66.194097\"/>\n    </g>\n   </g>\n   <g id=\"text_1\">\n    <g clip-path=\"url(#p4a68be041a)\">\n     <!-- s0 -->\n     <defs>\n      <path d=\"M 51.125 52.984375 \nL 51.125 39.703125 \nQ 45.515625 42.046875 40.28125 43.21875 \nQ 35.0625 44.390625 30.421875 44.390625 \nQ 25.4375 44.390625 23.015625 43.140625 \nQ 20.609375 41.890625 20.609375 39.3125 \nQ 20.609375 37.203125 22.4375 36.078125 \nQ 24.265625 34.96875 29 34.421875 \nL 32.078125 33.984375 \nQ 45.515625 32.28125 50.140625 28.375 \nQ 54.78125 24.46875 54.78125 16.109375 \nQ 54.78125 7.375 48.328125 2.96875 \nQ 41.890625 -1.421875 29.109375 -1.421875 \nQ 23.6875 -1.421875 17.890625 -0.5625 \nQ 12.109375 0.296875 6 2 \nL 6 15.28125 \nQ 11.234375 12.75 16.71875 11.46875 \nQ 22.21875 10.203125 27.875 10.203125 \nQ 33.015625 10.203125 35.59375 11.609375 \nQ 38.1875 13.03125 38.1875 15.828125 \nQ 38.1875 18.171875 36.40625 19.3125 \nQ 34.625 20.453125 29.296875 21.09375 \nL 26.21875 21.484375 \nQ 14.546875 22.953125 9.859375 26.90625 \nQ 5.171875 30.859375 5.171875 38.921875 \nQ 5.171875 47.609375 11.125 51.796875 \nQ 17.09375 56 29.390625 56 \nQ 34.234375 56 39.546875 55.265625 \nQ 44.875 54.546875 51.125 52.984375 \nz\n\" id=\"DejaVuSans-Bold-115\"/>\n      <path d=\"M 46 36.53125 \nQ 46 50.203125 43.4375 55.78125 \nQ 40.875 61.375 34.8125 61.375 \nQ 28.765625 61.375 26.171875 55.78125 \nQ 23.578125 50.203125 23.578125 36.53125 \nQ 23.578125 22.703125 26.171875 17.03125 \nQ 28.765625 11.375 34.8125 11.375 \nQ 40.828125 11.375 43.40625 17.03125 \nQ 46 22.703125 46 36.53125 \nz\nM 64.796875 36.375 \nQ 64.796875 18.265625 56.984375 8.421875 \nQ 49.171875 -1.421875 34.8125 -1.421875 \nQ 20.40625 -1.421875 12.59375 8.421875 \nQ 4.78125 18.265625 4.78125 36.375 \nQ 4.78125 54.546875 12.59375 64.375 \nQ 20.40625 74.21875 34.8125 74.21875 \nQ 49.171875 74.21875 56.984375 64.375 \nQ 64.796875 54.546875 64.796875 36.375 \nz\n\" id=\"DejaVuSans-Bold-48\"/>\n     </defs>\n     <g transform=\"translate(36.941978 273.519514)scale(0.12 -0.12)\">\n      <use xlink:href=\"#DejaVuSans-Bold-115\"/>\n      <use x=\"59.521484\" xlink:href=\"#DejaVuSans-Bold-48\"/>\n     </g>\n    </g>\n   </g>\n   <g id=\"text_2\">\n    <g clip-path=\"url(#p4a68be041a)\">\n     <!-- a0 -->\n     <defs>\n      <path d=\"M 32.90625 24.609375 \nQ 27.4375 24.609375 24.671875 22.75 \nQ 21.921875 20.90625 21.921875 17.28125 \nQ 21.921875 13.96875 24.140625 12.078125 \nQ 26.375 10.203125 30.328125 10.203125 \nQ 35.25 10.203125 38.625 13.734375 \nQ 42 17.28125 42 22.609375 \nL 42 24.609375 \nz\nM 59.625 31.203125 \nL 59.625 0 \nL 42 0 \nL 42 8.109375 \nQ 38.484375 3.125 34.078125 0.84375 \nQ 29.6875 -1.421875 23.390625 -1.421875 \nQ 14.890625 -1.421875 9.59375 3.53125 \nQ 4.296875 8.5 4.296875 16.40625 \nQ 4.296875 26.03125 10.90625 30.515625 \nQ 17.53125 35.015625 31.6875 35.015625 \nL 42 35.015625 \nL 42 36.375 \nQ 42 40.53125 38.71875 42.453125 \nQ 35.453125 44.390625 28.515625 44.390625 \nQ 22.90625 44.390625 18.0625 43.265625 \nQ 13.234375 42.140625 9.078125 39.890625 \nL 9.078125 53.21875 \nQ 14.703125 54.59375 20.359375 55.296875 \nQ 26.03125 56 31.6875 56 \nQ 46.484375 56 53.046875 50.171875 \nQ 59.625 44.34375 59.625 31.203125 \nz\n\" id=\"DejaVuSans-Bold-97\"/>\n     </defs>\n     <g transform=\"translate(367.986876 239.517153)scale(0.12 -0.12)\">\n      <use xlink:href=\"#DejaVuSans-Bold-97\"/>\n      <use x=\"67.480469\" xlink:href=\"#DejaVuSans-Bold-48\"/>\n     </g>\n    </g>\n   </g>\n   <g id=\"text_3\">\n    <g clip-path=\"url(#p4a68be041a)\">\n     <!-- o0 -->\n     <defs>\n      <path d=\"M 34.421875 43.5 \nQ 28.609375 43.5 25.5625 39.328125 \nQ 22.515625 35.15625 22.515625 27.296875 \nQ 22.515625 19.4375 25.5625 15.25 \nQ 28.609375 11.078125 34.421875 11.078125 \nQ 40.140625 11.078125 43.15625 15.25 \nQ 46.1875 19.4375 46.1875 27.296875 \nQ 46.1875 35.15625 43.15625 39.328125 \nQ 40.140625 43.5 34.421875 43.5 \nz\nM 34.421875 56 \nQ 48.53125 56 56.46875 48.375 \nQ 64.40625 40.765625 64.40625 27.296875 \nQ 64.40625 13.8125 56.46875 6.1875 \nQ 48.53125 -1.421875 34.421875 -1.421875 \nQ 20.265625 -1.421875 12.28125 6.1875 \nQ 4.296875 13.8125 4.296875 27.296875 \nQ 4.296875 40.765625 12.28125 48.375 \nQ 20.265625 56 34.421875 56 \nz\n\" id=\"DejaVuSans-Bold-111\"/>\n     </defs>\n     <g transform=\"translate(393.415522 273.519514)scale(0.12 -0.12)\">\n      <use xlink:href=\"#DejaVuSans-Bold-111\"/>\n      <use x=\"68.701172\" xlink:href=\"#DejaVuSans-Bold-48\"/>\n     </g>\n    </g>\n   </g>\n   <g id=\"text_4\">\n    <g clip-path=\"url(#p4a68be041a)\">\n     <!-- s1 -->\n     <defs>\n      <path d=\"M 11.71875 12.984375 \nL 28.328125 12.984375 \nL 28.328125 60.109375 \nL 11.28125 56.59375 \nL 11.28125 69.390625 \nL 28.21875 72.90625 \nL 46.09375 72.90625 \nL 46.09375 12.984375 \nL 62.703125 12.984375 \nL 62.703125 0 \nL 11.71875 0 \nz\n\" id=\"DejaVuSans-Bold-49\"/>\n     </defs>\n     <g transform=\"translate(342.96323 205.514792)scale(0.12 -0.12)\">\n      <use xlink:href=\"#DejaVuSans-Bold-115\"/>\n      <use x=\"59.521484\" xlink:href=\"#DejaVuSans-Bold-49\"/>\n     </g>\n    </g>\n   </g>\n   <g id=\"text_5\">\n    <g clip-path=\"url(#p4a68be041a)\">\n     <!-- a1 -->\n     <g transform=\"translate(138.470937 137.510069)scale(0.12 -0.12)\">\n      <use xlink:href=\"#DejaVuSans-Bold-97\"/>\n      <use x=\"67.480469\" xlink:href=\"#DejaVuSans-Bold-49\"/>\n     </g>\n    </g>\n   </g>\n   <g id=\"text_6\">\n    <g clip-path=\"url(#p4a68be041a)\">\n     <!-- o1 -->\n     <g transform=\"translate(112.896041 171.512431)scale(0.12 -0.12)\">\n      <use xlink:href=\"#DejaVuSans-Bold-111\"/>\n      <use x=\"68.701172\" xlink:href=\"#DejaVuSans-Bold-49\"/>\n     </g>\n    </g>\n   </g>\n   <g id=\"text_7\">\n    <g clip-path=\"url(#p4a68be041a)\">\n     <!-- s2 -->\n     <defs>\n      <path d=\"M 28.8125 13.8125 \nL 60.890625 13.8125 \nL 60.890625 0 \nL 7.90625 0 \nL 7.90625 13.8125 \nL 34.515625 37.3125 \nQ 38.09375 40.53125 39.796875 43.609375 \nQ 41.5 46.6875 41.5 50 \nQ 41.5 55.125 38.0625 58.25 \nQ 34.625 61.375 28.90625 61.375 \nQ 24.515625 61.375 19.28125 59.5 \nQ 14.0625 57.625 8.109375 53.90625 \nL 8.109375 69.921875 \nQ 14.453125 72.015625 20.65625 73.109375 \nQ 26.859375 74.21875 32.8125 74.21875 \nQ 45.90625 74.21875 53.15625 68.453125 \nQ 60.40625 62.703125 60.40625 52.390625 \nQ 60.40625 46.4375 57.328125 41.28125 \nQ 54.25 36.140625 44.390625 27.484375 \nz\n\" id=\"DejaVuSans-Bold-50\"/>\n     </defs>\n     <g transform=\"translate(215.454375 35.502986)scale(0.12 -0.12)\">\n      <use xlink:href=\"#DejaVuSans-Bold-115\"/>\n      <use x=\"59.521484\" xlink:href=\"#DejaVuSans-Bold-50\"/>\n     </g>\n    </g>\n   </g>\n   <g id=\"text_8\">\n    <g clip-path=\"url(#p4a68be041a)\">\n     <!-- a2 -->\n     <g transform=\"translate(240.478021 103.507708)scale(0.12 -0.12)\">\n      <use xlink:href=\"#DejaVuSans-Bold-97\"/>\n      <use x=\"67.480469\" xlink:href=\"#DejaVuSans-Bold-50\"/>\n     </g>\n    </g>\n   </g>\n   <g id=\"text_9\">\n    <g clip-path=\"url(#p4a68be041a)\">\n     <!-- o2 -->\n     <g transform=\"translate(214.903125 69.505347)scale(0.12 -0.12)\">\n      <use xlink:href=\"#DejaVuSans-Bold-111\"/>\n      <use x=\"68.701172\" xlink:href=\"#DejaVuSans-Bold-50\"/>\n     </g>\n    </g>\n   </g>\n  </g>\n </g>\n <defs>\n  <clipPath id=\"p4a68be041a\">\n   <rect height=\"288\" width=\"432\" x=\"7.2\" y=\"7.2\"/>\n  </clipPath>\n </defs>\n</svg>\n",
      "image/png": "[encoded data removed]"
     },
     "metadata": {}
    }
   ],
   "source": [
    "def draw_beliefnet(beliefnet):\n",
    "    \"\"\"draws the factorgraph and returns \n",
    "    a networkx digraph object representing\n",
    "    the graph\"\"\"\n",
    "    import networkx as nx\n",
    "    import matplotlib.pyplot as plt\n",
    "\n",
    "    G = nx.DiGraph()\n",
    "    # add nodes\n",
    "    for node in beliefnet:\n",
    "        G.add_node(node.name)\n",
    "    \n",
    "    # add edges\n",
    "    for node in beliefnet:\n",
    "        if node.parents is not None:\n",
    "            for parent in node.parents:\n",
    "                G.add_edge(parent.name, node.name)\n",
    "    \n",
    "    nx.draw(G, with_labels=True, font_weight='bold', pos=nx.planar_layout(G))\n",
    "            \n",
    "\n",
    "draw_beliefnet(beliefnet)"
   ]
  },
  {
   "cell_type": "code",
   "execution_count": 89,
   "metadata": {},
   "outputs": [
    {
     "output_type": "stream",
     "text": [
      "\u001b[0;31mSignature:\u001b[0m \u001b[0mnx\u001b[0m\u001b[0;34m.\u001b[0m\u001b[0mdraw\u001b[0m\u001b[0;34m(\u001b[0m\u001b[0mG\u001b[0m\u001b[0;34m,\u001b[0m \u001b[0mpos\u001b[0m\u001b[0;34m=\u001b[0m\u001b[0;32mNone\u001b[0m\u001b[0;34m,\u001b[0m \u001b[0max\u001b[0m\u001b[0;34m=\u001b[0m\u001b[0;32mNone\u001b[0m\u001b[0;34m,\u001b[0m \u001b[0;34m**\u001b[0m\u001b[0mkwds\u001b[0m\u001b[0;34m)\u001b[0m\u001b[0;34m\u001b[0m\u001b[0m\n",
      "\u001b[0;31mDocstring:\u001b[0m\n",
      "Draw the graph G with Matplotlib.\n",
      "\n",
      "Draw the graph as a simple representation with no node\n",
      "labels or edge labels and using the full Matplotlib figure area\n",
      "and no axis labels by default.  See draw_networkx() for more\n",
      "full-featured drawing that allows title, axis labels etc.\n",
      "\n",
      "Parameters\n",
      "----------\n",
      "G : graph\n",
      "   A networkx graph\n",
      "\n",
      "pos : dictionary, optional\n",
      "   A dictionary with nodes as keys and positions as values.\n",
      "   If not specified a spring layout positioning will be computed.\n",
      "   See :py:mod:`networkx.drawing.layout` for functions that\n",
      "   compute node positions.\n",
      "\n",
      "ax : Matplotlib Axes object, optional\n",
      "   Draw the graph in specified Matplotlib axes.\n",
      "\n",
      "kwds : optional keywords\n",
      "   See networkx.draw_networkx() for a description of optional keywords.\n",
      "\n",
      "Examples\n",
      "--------\n",
      ">>> G = nx.dodecahedral_graph()\n",
      ">>> nx.draw(G)\n",
      ">>> nx.draw(G, pos=nx.spring_layout(G))  # use spring layout\n",
      "\n",
      "See Also\n",
      "--------\n",
      "draw_networkx()\n",
      "draw_networkx_nodes()\n",
      "draw_networkx_edges()\n",
      "draw_networkx_labels()\n",
      "draw_networkx_edge_labels()\n",
      "\n",
      "Notes\n",
      "-----\n",
      "This function has the same name as pylab.draw and pyplot.draw\n",
      "so beware when using `from networkx import *`\n",
      "\n",
      "since you might overwrite the pylab.draw function.\n",
      "\n",
      "With pyplot use\n",
      "\n",
      ">>> import matplotlib.pyplot as plt\n",
      ">>> G = nx.dodecahedral_graph()\n",
      ">>> nx.draw(G)  # networkx draw()\n",
      ">>> plt.draw()  # pyplot draw()\n",
      "\n",
      "Also see the NetworkX drawing examples at\n",
      "https://networkx.github.io/documentation/latest/auto_examples/index.html\n",
      "\u001b[0;31mFile:\u001b[0m      ~/miniconda3/lib/python3.6/site-packages/networkx/drawing/nx_pylab.py\n",
      "\u001b[0;31mType:\u001b[0m      function\n"
     ],
     "name": "stdout"
    }
   ],
   "source": [
    "nx.draw?"
   ]
  },
  {
   "cell_type": "code",
   "execution_count": 82,
   "metadata": {},
   "outputs": [
    {
     "output_type": "stream",
     "name": "stdout",
     "text": [
      "[0, 1, 2, 0, 1, 2, 0, 1, 2]\n"
     ]
    }
   ],
   "source": [
    "print([int(n.name[1:]) for n in beliefnet])\n",
    "beliefnet = sorted(beliefnet, key=lambda n: int(n.name[1:]))"
   ]
  }
 ]
}