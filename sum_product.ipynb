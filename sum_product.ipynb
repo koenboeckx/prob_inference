{
 "cells": [
  {
   "cell_type": "markdown",
   "metadata": {},
   "source": [
    "[github link](https://github.com/ilyakava/sumproduct)"
   ]
  },
  {
   "cell_type": "markdown",
   "metadata": {},
   "source": [
    "## Interface\n",
    "```python\n",
    "g = FactorGraph()\n",
    "\n",
    "x1 = Variable('x1', 2) # init a variable with 2 states\n",
    "x2 = Variable('x2', 3) # init a variable with 3 states\n",
    "\n",
    "f12 = Factor('f12', np.array([\n",
    "  [0.8,0.2],\n",
    "  [0.2,0.8],\n",
    "  [0.5,0.5]\n",
    "])) # create a factor, node potential for p(x1 | x2)\n",
    "\n",
    "# connect the parents to their children\n",
    "g.add(f12)\n",
    "g.append('f12', x2) # order must be the same as dimensions in factor potential!\n",
    "g.append('f12', x1) # note: f12 potential's shape is (3,2), i.e. (x2,x1)\n",
    "\n",
    "g.compute_marginals() # -> [0.0]\n",
    "\n",
    "g.nodes['x1'].marginal() # -> array([0.5, 0.5])\n",
    "```"
   ]
  },
  {
   "cell_type": "code",
   "execution_count": 4,
   "metadata": {},
   "outputs": [],
   "source": [
    "import numpy as np"
   ]
  },
  {
   "cell_type": "code",
   "execution_count": 27,
   "metadata": {},
   "outputs": [
    {
     "data": {
      "text/plain": [
       "True"
      ]
     },
     "execution_count": 27,
     "metadata": {},
     "output_type": "execute_result"
    }
   ],
   "source": [
    "isinstance(np.array([]), np.ndarray)"
   ]
  },
  {
   "cell_type": "code",
   "execution_count": 42,
   "metadata": {},
   "outputs": [],
   "source": [
    "class Variable:\n",
    "    def __init__(self, name, n_states):\n",
    "        self.name = name\n",
    "        self.states = list(range(n_states))\n",
    "    \n",
    "    def __repr__(self):\n",
    "        return self.name"
   ]
  },
  {
   "cell_type": "code",
   "execution_count": 46,
   "metadata": {},
   "outputs": [],
   "source": [
    "class Factor:\n",
    "    def __init__(self, name, array):\n",
    "        assert isinstance(array, np.ndarray), f'´array has to be a numpy ndarray, not {type(array)}'\n",
    "        self.name = name\n",
    "        self.values = array\n",
    "        self.shape  = self.values.shape\n",
    "    \n",
    "    def __repr__(self):\n",
    "        return self.name"
   ]
  },
  {
   "cell_type": "code",
   "execution_count": 34,
   "metadata": {},
   "outputs": [
    {
     "ename": "AssertionError",
     "evalue": "´array has to be a numpy ndarray, not <class 'list'>",
     "output_type": "error",
     "traceback": [
      "\u001b[0;31m---------------------------------------------------------------------------\u001b[0m",
      "\u001b[0;31mAssertionError\u001b[0m                            Traceback (most recent call last)",
      "\u001b[0;32m<ipython-input-34-b854d017bc81>\u001b[0m in \u001b[0;36m<module>\u001b[0;34m\u001b[0m\n\u001b[0;32m----> 1\u001b[0;31m \u001b[0mf\u001b[0m \u001b[0;34m=\u001b[0m \u001b[0mFactor\u001b[0m\u001b[0;34m(\u001b[0m\u001b[0;34m'f12'\u001b[0m\u001b[0;34m,\u001b[0m \u001b[0;34m[\u001b[0m\u001b[0;34m]\u001b[0m\u001b[0;34m)\u001b[0m\u001b[0;34m\u001b[0m\u001b[0;34m\u001b[0m\u001b[0m\n\u001b[0m\u001b[1;32m      2\u001b[0m \u001b[0misinstance\u001b[0m\u001b[0;34m(\u001b[0m\u001b[0mf\u001b[0m\u001b[0;34m,\u001b[0m \u001b[0mVariable\u001b[0m\u001b[0;34m)\u001b[0m\u001b[0;34m\u001b[0m\u001b[0;34m\u001b[0m\u001b[0m\n",
      "\u001b[0;32m<ipython-input-33-23f9f67d40c9>\u001b[0m in \u001b[0;36m__init__\u001b[0;34m(self, name, array)\u001b[0m\n\u001b[1;32m      1\u001b[0m \u001b[0;32mclass\u001b[0m \u001b[0mFactor\u001b[0m\u001b[0;34m:\u001b[0m\u001b[0;34m\u001b[0m\u001b[0;34m\u001b[0m\u001b[0m\n\u001b[1;32m      2\u001b[0m     \u001b[0;32mdef\u001b[0m \u001b[0m__init__\u001b[0m\u001b[0;34m(\u001b[0m\u001b[0mself\u001b[0m\u001b[0;34m,\u001b[0m \u001b[0mname\u001b[0m\u001b[0;34m,\u001b[0m \u001b[0marray\u001b[0m\u001b[0;34m)\u001b[0m\u001b[0;34m:\u001b[0m\u001b[0;34m\u001b[0m\u001b[0;34m\u001b[0m\u001b[0m\n\u001b[0;32m----> 3\u001b[0;31m         \u001b[0;32massert\u001b[0m \u001b[0misinstance\u001b[0m\u001b[0;34m(\u001b[0m\u001b[0marray\u001b[0m\u001b[0;34m,\u001b[0m \u001b[0mnp\u001b[0m\u001b[0;34m.\u001b[0m\u001b[0mndarray\u001b[0m\u001b[0;34m)\u001b[0m\u001b[0;34m,\u001b[0m \u001b[0;34mf'´array has to be a numpy ndarray, not {type(array)}'\u001b[0m\u001b[0;34m\u001b[0m\u001b[0;34m\u001b[0m\u001b[0m\n\u001b[0m\u001b[1;32m      4\u001b[0m         \u001b[0mself\u001b[0m\u001b[0;34m.\u001b[0m\u001b[0mname\u001b[0m \u001b[0;34m=\u001b[0m \u001b[0mname\u001b[0m\u001b[0;34m\u001b[0m\u001b[0;34m\u001b[0m\u001b[0m\n\u001b[1;32m      5\u001b[0m         \u001b[0mself\u001b[0m\u001b[0;34m.\u001b[0m\u001b[0mvalues\u001b[0m \u001b[0;34m=\u001b[0m \u001b[0marray\u001b[0m\u001b[0;34m\u001b[0m\u001b[0;34m\u001b[0m\u001b[0m\n",
      "\u001b[0;31mAssertionError\u001b[0m: ´array has to be a numpy ndarray, not <class 'list'>"
     ]
    }
   ],
   "source": [
    "f = Factor('f12', [])\n",
    "isinstance(f, Variable)"
   ]
  },
  {
   "cell_type": "code",
   "execution_count": 64,
   "metadata": {},
   "outputs": [],
   "source": [
    "class FactorGraph:\n",
    "    def __init__(self):\n",
    "        self.nodes = {}\n",
    "        self.factors = {}\n",
    "        self.factor_vars = {}\n",
    "        self.vars = {}\n",
    "        self.var_factors = {}\n",
    "    \n",
    "    def add(self, factor):\n",
    "        \"\"\"Add a factor to the graph\"\"\"\n",
    "        assert factor.name not in self.factors, f'Factor with name {factor.name} already defined'\n",
    "        self.factors[factor.name] = factor\n",
    "        self.factor_vars[factor.name] = []\n",
    "    \n",
    "    def append(self, factor, variable):\n",
    "        \"\"\"Add a variable to factor\"\"\"\n",
    "        assert factor in self.factors, f'Factor {factor} not yet defined'\n",
    "        expected_size = self.factors[factor].shape[len(self.factor_vars[factor])]\n",
    "        print(f'Expected size = {expected_size}, true size = {len(variable.states)}')\n",
    "        assert expected_size == len(variable.states)\n",
    "        if variable.name not in self.vars:\n",
    "            self.vars[variable.name] = variable\n",
    "            self.var_factors[variable.name] = []\n",
    "        self.factor_vars[factor].append(variable)\n",
    "        self.var_factors[variable.name].append(self.factors[factor])\n",
    "    \n",
    "    def neighbours(self, entity):\n",
    "        if isinstance(entity, Variable):\n",
    "            return self._var_neighbours(entity)\n",
    "        elif isinstance(entity, Factor):\n",
    "            return self._factor_neighbours(entity)\n",
    "        else:\n",
    "            assert False, f'Illegal type {type(entity)}'\n",
    "    \n",
    "    def _var_neighbours(self, var):\n",
    "        assert var.name in self.var_factors, f'unknown variable {var.name}'\n",
    "        return self.var_factors[var.name]\n",
    "    \n",
    "    def _factor_neighbours(self, factor):\n",
    "        assert factor.name in self.factor_vars, f'unknown factor {factor.name}'\n",
    "        return self.factor_vars[factor.name]\n",
    "        \n",
    "    \n",
    "    def compute_marginals(self):\n",
    "        pass"
   ]
  },
  {
   "cell_type": "code",
   "execution_count": 65,
   "metadata": {},
   "outputs": [
    {
     "name": "stdout",
     "output_type": "stream",
     "text": [
      "Expected size = 3, true size = 3\n",
      "Expected size = 2, true size = 2\n"
     ]
    }
   ],
   "source": [
    "## test\n",
    "g = FactorGraph()\n",
    "\n",
    "x1 = Variable('x1', 2) # init a variable with 2 states\n",
    "x2 = Variable('x2', 3) # init a variable with 3 states\n",
    "\n",
    "f12 = Factor('f12', np.array([\n",
    "  [0.8,0.2],\n",
    "  [0.2,0.8],\n",
    "  [0.5,0.5]\n",
    "])) # create a factor, node potential for p(x1 | x2)\n",
    "\n",
    "# connect the parents to their children\n",
    "g.add(f12)\n",
    "g.append('f12', x2) # order must be the same as dimensions in factor potential!\n",
    "g.append('f12', x1) # note: f12 potential's shape is (3,2), i.e. (x2,x1)\n",
    "\n",
    "#g.compute_marginals() # -> [0.0]\n",
    "\n",
    "#g.nodes['x1'].marginal() # -> array([0.5, 0.5])\n",
    "\n"
   ]
  },
  {
   "cell_type": "code",
   "execution_count": 66,
   "metadata": {},
   "outputs": [
    {
     "data": {
      "text/plain": [
       "[f12]"
      ]
     },
     "execution_count": 66,
     "metadata": {},
     "output_type": "execute_result"
    }
   ],
   "source": [
    "g.neighbours(x1)"
   ]
  },
  {
   "cell_type": "code",
   "execution_count": 67,
   "metadata": {},
   "outputs": [
    {
     "name": "stdout",
     "output_type": "stream",
     "text": [
      "Expected size = 2, true size = 2\n",
      "Expected size = 2, true size = 2\n",
      "Expected size = 2, true size = 2\n",
      "Expected size = 2, true size = 2\n",
      "Expected size = 2, true size = 2\n",
      "Expected size = 2, true size = 2\n",
      "Expected size = 2, true size = 2\n"
     ]
    }
   ],
   "source": [
    "## second test\n",
    "g = FactorGraph()\n",
    "\n",
    "A = Variable('A', 2)\n",
    "B = Variable('B', 2)\n",
    "C = Variable('C', 2)\n",
    "D = Variable('D', 2)\n",
    "\n",
    "f1 = Factor('f1', np.array([\n",
    "    [10, 1],\n",
    "    [1, 10]\n",
    "]))\n",
    "\n",
    "f2 = Factor('f2', np.array([\n",
    "    [1, 10],\n",
    "    [10, 1]\n",
    "]))\n",
    "\n",
    "f3 = Factor('f3', np.array([\n",
    "    [10, 1],\n",
    "    [1, 10]\n",
    "]))\n",
    "\n",
    "f4 = Factor('f4', np.array(\n",
    "    [10, 1]\n",
    "))\n",
    "\n",
    "g.add(f1)\n",
    "g.append('f1', A)\n",
    "g.append('f1', B)\n",
    "\n",
    "g.add(f2)\n",
    "g.append('f2', B)\n",
    "g.append('f2', C)\n",
    "\n",
    "g.add(f3)\n",
    "g.append('f3', B)\n",
    "g.append('f3', D)\n",
    "\n",
    "g.add(f4)\n",
    "g.append('f4', C)"
   ]
  },
  {
   "cell_type": "code",
   "execution_count": 68,
   "metadata": {},
   "outputs": [
    {
     "data": {
      "text/plain": [
       "{'f1': f1, 'f2': f2, 'f3': f3, 'f4': f4}"
      ]
     },
     "execution_count": 68,
     "metadata": {},
     "output_type": "execute_result"
    }
   ],
   "source": [
    "g.factors"
   ]
  },
  {
   "cell_type": "code",
   "execution_count": 69,
   "metadata": {},
   "outputs": [
    {
     "data": {
      "text/plain": [
       "[C]"
      ]
     },
     "execution_count": 69,
     "metadata": {},
     "output_type": "execute_result"
    }
   ],
   "source": [
    "g.neighbours(f4)"
   ]
  },
  {
   "cell_type": "code",
   "execution_count": null,
   "metadata": {},
   "outputs": [],
   "source": []
  }
 ],
 "metadata": {
  "kernelspec": {
   "display_name": "Python 3",
   "language": "python",
   "name": "python3"
  },
  "language_info": {
   "codemirror_mode": {
    "name": "ipython",
    "version": 3
   },
   "file_extension": ".py",
   "mimetype": "text/x-python",
   "name": "python",
   "nbconvert_exporter": "python",
   "pygments_lexer": "ipython3",
   "version": "3.8.5"
  }
 },
 "nbformat": 4,
 "nbformat_minor": 4
}
