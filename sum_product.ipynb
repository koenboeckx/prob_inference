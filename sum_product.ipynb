{
 "cells": [
  {
   "cell_type": "markdown",
   "metadata": {},
   "source": [
    "[github link](https://github.com/ilyakava/sumproduct)"
   ]
  },
  {
   "cell_type": "markdown",
   "metadata": {},
   "source": [
    "## Interface\n",
    "```python\n",
    "g = FactorGraph()\n",
    "\n",
    "x1 = Variable('x1', 2) # init a variable with 2 states\n",
    "x2 = Variable('x2', 3) # init a variable with 3 states\n",
    "\n",
    "f12 = Factor('f12', np.array([\n",
    "  [0.8,0.2],\n",
    "  [0.2,0.8],\n",
    "  [0.5,0.5]\n",
    "])) # create a factor, node potential for p(x1 | x2)\n",
    "\n",
    "# connect the parents to their children\n",
    "g.add(f12)\n",
    "g.append('f12', x2) # order must be the same as dimensions in factor potential!\n",
    "g.append('f12', x1) # note: f12 potential's shape is (3,2), i.e. (x2,x1)\n",
    "\n",
    "g.compute_marginals() # -> [0.0]\n",
    "\n",
    "g.nodes['x1'].marginal() # -> array([0.5, 0.5])\n",
    "```"
   ]
  },
  {
   "cell_type": "code",
   "execution_count": 4,
   "metadata": {},
   "outputs": [],
   "source": [
    "import numpy as np"
   ]
  },
  {
   "cell_type": "code",
   "execution_count": 27,
   "metadata": {},
   "outputs": [
    {
     "data": {
      "text/plain": [
       "True"
      ]
     },
     "execution_count": 27,
     "metadata": {},
     "output_type": "execute_result"
    }
   ],
   "source": [
    "isinstance(np.array([]), np.ndarray)"
   ]
  },
  {
   "cell_type": "code",
   "execution_count": 135,
   "metadata": {},
   "outputs": [],
   "source": [
    "class Message:\n",
    "    def __init__(self, origin, dest, values):\n",
    "        self.origin = origin\n",
    "        self.dest = dest\n",
    "        self.values = values"
   ]
  },
  {
   "cell_type": "code",
   "execution_count": 295,
   "metadata": {},
   "outputs": [],
   "source": [
    "class Node:\n",
    "    def __init__(self, name):\n",
    "        self.name = name\n",
    "        self.neighbors = []\n",
    "        self.messages = []\n",
    "    \n",
    "    def __repr__(self):\n",
    "        return self.name\n",
    "    \n",
    "    def add_neighbor(self, factor):\n",
    "        self.neighbors.append(factor)\n",
    "    \n",
    "    def send_message(self):\n",
    "        # when node is requested to send message and list of incoming messages is empty,\n",
    "        # this means that node is leaf node and most use init message\n",
    "        if len(self.messages) == 0:\n",
    "            message = np.ones(len(self.states)) if isinstance(self, Variable) else self.values\n",
    "            for node in self.neighbors:\n",
    "                node.messages.append(Message(self, node, message))\n",
    "                print(f'Node {self.name} sends message to node {node.name}')\n",
    "            return self.neighbors # return all neighbors\n",
    "        else: # not a leaf\n",
    "            in_values= [message.values for message in self.messages]\n",
    "            in_nodes = [message.origin for message in self.messages]\n",
    "            out_nodes = [node for node in self.neighbors if node not in in_nodes]\n",
    "            for node in out_nodes:\n",
    "                print(f'Node {self.name} sends message to node {node.name}')\n",
    "                if isinstance(self, Variable):\n",
    "                    # from variable to factor: product of all in messages:\n",
    "                    message = np.prod(in_values, axis=0)\n",
    "                    node.messages.append(Message(self, node, message))\n",
    "                else: # factor node\n",
    "                    pass\n",
    "            return out_nodes"
   ]
  },
  {
   "cell_type": "code",
   "execution_count": 296,
   "metadata": {},
   "outputs": [
    {
     "data": {
      "text/plain": [
       "array([6., 6., 6.])"
      ]
     },
     "execution_count": 296,
     "metadata": {},
     "output_type": "execute_result"
    }
   ],
   "source": [
    "one1 = 3*np.ones(3)\n",
    "one2 = 2*np.ones(3)\n",
    "np.prod([one1, one2], axis=0)"
   ]
  },
  {
   "cell_type": "code",
   "execution_count": 297,
   "metadata": {},
   "outputs": [],
   "source": [
    "class Variable(Node):\n",
    "    def __init__(self, name, n_states):\n",
    "        super().__init__(name)\n",
    "        self.states = list(range(n_states))    "
   ]
  },
  {
   "cell_type": "code",
   "execution_count": 298,
   "metadata": {},
   "outputs": [],
   "source": [
    "class Factor(Node):\n",
    "    def __init__(self, name, array):\n",
    "        super().__init__(name)\n",
    "        assert isinstance(array, np.ndarray), f'´array has to be a numpy ndarray, not {type(array)}'\n",
    "        self.values = array\n",
    "        self.shape  = self.values.shape\n"
   ]
  },
  {
   "cell_type": "code",
   "execution_count": 299,
   "metadata": {},
   "outputs": [],
   "source": [
    "class FactorGraph:\n",
    "    def __init__(self):\n",
    "        self.factors = []\n",
    "        self.vars = []\n",
    "    \n",
    "    def add(self, factor):\n",
    "        \"\"\"Add a factor to the graph\"\"\"\n",
    "        assert factor not in self.factors, f'Factor {factor.name} already defined'\n",
    "        self.factors.append(factor)\n",
    "    \n",
    "    def append(self, factor, variable):\n",
    "        \"\"\"Add a variable to factor\"\"\"\n",
    "        assert factor in self.factors, f'Factor {factor.name} not yet defined'\n",
    "        # TODO: check for correct size\n",
    "        if variable not in self.vars:\n",
    "            self.vars.append(variable)\n",
    "        factor.add_neighbor(variable)\n",
    "        variable.add_neighbor(factor)\n",
    "\n",
    "    def leafs(self):\n",
    "        leafs = set()\n",
    "        for node in self.vars + self.factors:\n",
    "            # a leaf is a node that is missing one incoming message\n",
    "            if len(node.neighbors) == 1:\n",
    "                leafs.add(node)\n",
    "        return leafs\n",
    "    \n",
    "    def compute_marginals(self):\n",
    "        leafs = self.leafs()\n",
    "        # 1. pick (arbitrary) root node\n",
    "        #root = leafs.pop()\n",
    "        root = self.factors[-1] # force uses of  as root - remove later\n",
    "        leafs.remove(root)\n",
    "        # 2. Propagate messages from leaves to root\n",
    "        fringe = leafs.copy()\n",
    "        for node in fringe:\n",
    "            next_nodes = node.send_message()\n",
    "            fringe = fringe.union(next_nodes)\n",
    "            fringe.remove(node)\n",
    "                    "
   ]
  },
  {
   "cell_type": "code",
   "execution_count": 300,
   "metadata": {},
   "outputs": [],
   "source": [
    "## test\n",
    "g = FactorGraph()\n",
    "\n",
    "x1 = Variable('x1', 2) # init a variable with 2 states\n",
    "x2 = Variable('x2', 3) # init a variable with 3 states\n",
    "\n",
    "f12 = Factor('f12', np.array([\n",
    "  [0.8,0.2],\n",
    "  [0.2,0.8],\n",
    "  [0.5,0.5]\n",
    "])) # create a factor, node potential for p(x1 | x2)\n",
    "\n",
    "# connect the parents to their children\n",
    "g.add(f12)\n",
    "g.append(f12, x2) # order must be the same as dimensions in factor potential!\n",
    "g.append(f12, x1) # note: f12 potential's shape is (3,2), i.e. (x2,x1)\n",
    "\n",
    "#g.compute_marginals() # -> [0.0]\n",
    "\n",
    "#g.nodes['x1'].marginal() # -> array([0.5, 0.5])\n",
    "\n"
   ]
  },
  {
   "cell_type": "code",
   "execution_count": 301,
   "metadata": {},
   "outputs": [
    {
     "data": {
      "text/plain": [
       "{x1, x2}"
      ]
     },
     "execution_count": 301,
     "metadata": {},
     "output_type": "execute_result"
    }
   ],
   "source": [
    "g.leafs()"
   ]
  },
  {
   "cell_type": "code",
   "execution_count": 302,
   "metadata": {},
   "outputs": [],
   "source": [
    "## second test\n",
    "g = FactorGraph()\n",
    "\n",
    "A = Variable('A', 2)\n",
    "B = Variable('B', 2)\n",
    "C = Variable('C', 2)\n",
    "D = Variable('D', 2)\n",
    "\n",
    "f1 = Factor('f1', np.array([\n",
    "    [10, 1],\n",
    "    [1, 10]\n",
    "]))\n",
    "\n",
    "f2 = Factor('f2', np.array([\n",
    "    [1, 10],\n",
    "    [10, 1]\n",
    "]))\n",
    "\n",
    "f3 = Factor('f3', np.array([\n",
    "    [10, 1],\n",
    "    [1, 10]\n",
    "]))\n",
    "\n",
    "f4 = Factor('f4', np.array(\n",
    "    [10, 1]\n",
    "))\n",
    "\n",
    "g.add(f1)\n",
    "g.append(f1, A)\n",
    "g.append(f1, B)\n",
    "\n",
    "g.add(f2)\n",
    "g.append(f2, B)\n",
    "g.append(f2, C)\n",
    "\n",
    "g.add(f3)\n",
    "g.append(f3, B)\n",
    "g.append(f3, D)\n",
    "\n",
    "g.add(f4)\n",
    "g.append(f4, C)"
   ]
  },
  {
   "cell_type": "code",
   "execution_count": 303,
   "metadata": {},
   "outputs": [
    {
     "data": {
      "text/plain": [
       "[f1, f2, f3, f4]"
      ]
     },
     "execution_count": 303,
     "metadata": {},
     "output_type": "execute_result"
    }
   ],
   "source": [
    "g.factors"
   ]
  },
  {
   "cell_type": "code",
   "execution_count": 304,
   "metadata": {},
   "outputs": [
    {
     "name": "stdout",
     "output_type": "stream",
     "text": [
      "Node D sends message to node f3\n",
      "Node A sends message to node f1\n"
     ]
    }
   ],
   "source": [
    "g.compute_marginals()"
   ]
  },
  {
   "cell_type": "code",
   "execution_count": 279,
   "metadata": {},
   "outputs": [
    {
     "data": {
      "text/plain": [
       "array([1., 1.])"
      ]
     },
     "execution_count": 279,
     "metadata": {},
     "output_type": "execute_result"
    }
   ],
   "source": [
    "f3.messages[0].array"
   ]
  },
  {
   "cell_type": "code",
   "execution_count": 306,
   "metadata": {},
   "outputs": [],
   "source": [
    "a = set(); a.add(1)\n",
    "b = set(); b.add(1)\n",
    "c = set([1])"
   ]
  },
  {
   "cell_type": "code",
   "execution_count": 315,
   "metadata": {},
   "outputs": [],
   "source": [
    "a  = a.union([2])"
   ]
  },
  {
   "cell_type": "code",
   "execution_count": 317,
   "metadata": {},
   "outputs": [
    {
     "data": {
      "text/plain": [
       "{2}"
      ]
     },
     "execution_count": 317,
     "metadata": {},
     "output_type": "execute_result"
    }
   ],
   "source": [
    "a.difference(b)"
   ]
  }
 ],
 "metadata": {
  "kernelspec": {
   "display_name": "Python 3",
   "language": "python",
   "name": "python3"
  },
  "language_info": {
   "codemirror_mode": {
    "name": "ipython",
    "version": 3
   },
   "file_extension": ".py",
   "mimetype": "text/x-python",
   "name": "python",
   "nbconvert_exporter": "python",
   "pygments_lexer": "ipython3",
   "version": "3.8.5"
  }
 },
 "nbformat": 4,
 "nbformat_minor": 4
}
